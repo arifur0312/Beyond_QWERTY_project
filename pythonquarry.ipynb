{
  "nbformat": 4,
  "nbformat_minor": 0,
  "metadata": {
    "colab": {
      "provenance": [],
      "authorship_tag": "ABX9TyNE352Rg+KRDFRjDSML53CM",
      "include_colab_link": true
    },
    "kernelspec": {
      "name": "python3",
      "display_name": "Python 3"
    },
    "language_info": {
      "name": "python"
    }
  },
  "cells": [
    {
      "cell_type": "markdown",
      "metadata": {
        "id": "view-in-github",
        "colab_type": "text"
      },
      "source": [
        "<a href=\"https://colab.research.google.com/github/arifur0312/Beyond_QWERTY_project/blob/main/pythonquarry.ipynb\" target=\"_parent\"><img src=\"https://colab.research.google.com/assets/colab-badge.svg\" alt=\"Open In Colab\"/></a>"
      ]
    },
    {
      "cell_type": "code",
      "execution_count": null,
      "metadata": {
        "id": "UJ9xicT-T22P"
      },
      "outputs": [],
      "source": [
        "\n",
        "def add(x, y):\n",
        "  return x + y\n",
        "\n",
        "def subtract(x, y):\n",
        "  return x - y\n",
        "\n",
        "def multiply(x, y):\n",
        "  return x * y\n",
        "\n",
        "def divide(x, y):\n",
        "  if y == 0:\n",
        "    return \"Division by zero error!\"\n",
        "  else:\n",
        "    return x / y\n"
      ]
    },
    {
      "cell_type": "code",
      "source": [
        "# prompt: Working with Lists\n",
        "\n",
        "def process_list(data, operation):\n",
        "\n",
        "  if not isinstance(data, list):\n",
        "    return None\n",
        "\n",
        "  if not callable(operation):\n",
        "    return None\n",
        "\n",
        "  results = []\n",
        "  for i in range(0, len(data) - 1, 2):\n",
        "    try:\n",
        "        x = data[i]\n",
        "        y = data[i + 1]\n",
        "        results.append(operation(x, y))\n",
        "    except IndexError:\n",
        "        results.append(data[i]) # Just add the last element\n",
        "    except TypeError:\n",
        "        return None\n",
        "  return results\n"
      ],
      "metadata": {
        "id": "lJLh3Cw7UCII"
      },
      "execution_count": null,
      "outputs": []
    },
    {
      "cell_type": "code",
      "source": [
        "\n",
        "\n",
        "import numpy as np\n",
        "\n",
        "random_numbers = np.random.rand(10)\n",
        "random_numbers\n"
      ],
      "metadata": {
        "id": "8LmuTKjdUFDo"
      },
      "execution_count": null,
      "outputs": []
    },
    {
      "cell_type": "code",
      "source": [
        "\n",
        "\n",
        "import pandas as pd\n",
        "import numpy as np\n",
        "\n",
        "data = {'col1': np.random.rand(10), 'col2': np.random.randint(0, 100, 10)}\n",
        "df = pd.DataFrame(data)\n",
        "\n",
        "df\n"
      ],
      "metadata": {
        "id": "rFbBQrGmUNwG"
      },
      "execution_count": null,
      "outputs": []
    },
    {
      "cell_type": "code",
      "source": [
        "\n",
        "\n",
        "import random\n",
        "\n",
        "my_list = [1, 2, 3, 4, 5, 6, 7, 8, 9, 10]\n",
        "random_items = random.sample(my_list, 5)\n",
        "random_items\n"
      ],
      "metadata": {
        "id": "hHWId7TwUShn"
      },
      "execution_count": null,
      "outputs": []
    },
    {
      "cell_type": "code",
      "source": [
        "\n",
        "\n",
        "import pandas as pd\n",
        "import numpy as np\n",
        "\n",
        "data = {'col1': np.random.rand(10), 'col2': np.random.randint(0, 100, 10)}\n",
        "df = pd.DataFrame(data)\n",
        "df\n"
      ],
      "metadata": {
        "id": "_EwYlRM4Ua2d"
      },
      "execution_count": null,
      "outputs": []
    },
    {
      "cell_type": "code",
      "source": [
        "\n",
        "\n",
        "import codecs\n",
        "\n",
        "def rot13(text):\n",
        "    return codecs.encode(text, 'rot13')\n",
        "\n",
        "print(rot13(\"Hello, World!\"))\n"
      ],
      "metadata": {
        "id": "FRkI0A3pUc_l"
      },
      "execution_count": null,
      "outputs": []
    },
    {
      "cell_type": "code",
      "source": [
        "\n",
        "\n",
        "import pandas as pd\n",
        "import numpy as np\n",
        "\n",
        "\n",
        "data = {'col1': np.random.rand(10), 'col2': np.random.randint(0, 100, 10)}\n",
        "df = pd.DataFrame(data)\n",
        "df\n"
      ],
      "metadata": {
        "id": "VrLVFqBcUe8o"
      },
      "execution_count": null,
      "outputs": []
    },
    {
      "cell_type": "code",
      "source": [
        "\n",
        "\n",
        "import random\n",
        "\n",
        "my_list = [1, 2, 3, 4, 5, 6, 7, 8, 9, 10]\n",
        "random_items = random.sample(my_list, 5)\n",
        "random_items\n"
      ],
      "metadata": {
        "id": "bbhsvmQRUkAF"
      },
      "execution_count": null,
      "outputs": []
    },
    {
      "cell_type": "code",
      "source": [
        "\n",
        "\n",
        "import pandas as pd\n",
        "import numpy as np\n",
        "\n",
        "\n",
        "data = {'col1': np.random.rand(10), 'col2': np.random.randint(0, 100, 10)}\n",
        "df = pd.DataFrame(data)\n",
        "df\n"
      ],
      "metadata": {
        "id": "fmmZzjBXUmsY"
      },
      "execution_count": null,
      "outputs": []
    },
    {
      "cell_type": "code",
      "source": [
        "\n",
        "\n",
        "def check_even_odd(number):\n",
        "  \"\"\"\n",
        "  Checks if a number is even or odd.\n",
        "\n",
        "  Args:\n",
        "    number: An integer.\n",
        "\n",
        "  Returns:\n",
        "    \"Even\" if the number is even, \"Odd\" if the number is odd,\n",
        "    and an error message if the input is not an integer.\n",
        "  \"\"\"\n",
        "  if isinstance(number, int):\n",
        "    if number % 2 == 0:\n",
        "      return \"Even\"\n",
        "    else:\n",
        "      return \"Odd\"\n",
        "  else:\n",
        "    return \"Invalid input: Please provide an integer.\"\n"
      ],
      "metadata": {
        "id": "RIneSGvZUrU3"
      },
      "execution_count": null,
      "outputs": []
    },
    {
      "cell_type": "code",
      "source": [
        "\n",
        "\n",
        "def read_file_content(filepath):\n",
        "    \"\"\"\n",
        "    Reads the content of a file.\n",
        "\n",
        "    Args:\n",
        "      filepath: The path to the file.\n",
        "\n",
        "    Returns:\n",
        "      The content of the file as a string, or None if the file does not exist.\n",
        "    \"\"\"\n",
        "    try:\n",
        "        with open(filepath, 'r') as file:\n",
        "            content = file.read()\n",
        "        return content\n",
        "    except FileNotFoundError:\n",
        "        return None\n"
      ],
      "metadata": {
        "id": "jEqLER2JUwC2"
      },
      "execution_count": null,
      "outputs": []
    }
  ]
}